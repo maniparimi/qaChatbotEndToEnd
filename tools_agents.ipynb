{
  "nbformat": 4,
  "nbformat_minor": 0,
  "metadata": {
    "colab": {
      "provenance": [],
      "authorship_tag": "ABX9TyP3PRsuo65+i480J07dDpCf",
      "include_colab_link": true
    },
    "kernelspec": {
      "name": "python3",
      "display_name": "Python 3"
    },
    "language_info": {
      "name": "python"
    }
  },
  "cells": [
    {
      "cell_type": "markdown",
      "metadata": {
        "id": "view-in-github",
        "colab_type": "text"
      },
      "source": [
        "<a href=\"https://colab.research.google.com/github/maniparimi/qaChatbotEndToEnd/blob/main/tools_agents.ipynb\" target=\"_parent\"><img src=\"https://colab.research.google.com/assets/colab-badge.svg\" alt=\"Open In Colab\"/></a>"
      ]
    },
    {
      "cell_type": "code",
      "execution_count": null,
      "metadata": {
        "id": "0SKcfUCqsx-k"
      },
      "outputs": [],
      "source": [
        "## Creating Wikipedia and arXiv Tools\n",
        "\n",
        "We start by importing the necessary modules from Langchain community tools and utilities:\n",
        "\n",
        "from langchain_community.tools import ArxivQueryRun, WikipediaQueryRun\n",
        "from langchain_community.utilities import WikipediaAPIWrapper, ArxivAPIWrapper"
      ]
    },
    {
      "cell_type": "code",
      "source": [
        "Next, create API wrappers for Wikipedia and arXiv, specifying parameters such as the number of top results and maximum document content characters:\n",
        "\n",
        "wiki_api_wrapper = WikipediaAPIWrapper(top_k_results=1, doc_content_chars_max=250)\n",
        "arxiv_api_wrapper = ArxivAPIWrapper(top_k_results=1, doc_content_chars_max=250)"
      ],
      "metadata": {
        "id": "Gyc8zxxZs_Si"
      },
      "execution_count": null,
      "outputs": []
    },
    {
      "cell_type": "code",
      "source": [
        "Then, create the corresponding query run tools using these wrappers:\n",
        "\n",
        "wiki_tool = WikipediaQueryRun(wiki_api_wrapper)\n",
        "arxiv_tool = ArxivQueryRun(arxiv_api_wrapper)\n",
        "\n",
        "These tools can be used to fetch information from Wikipedia and arXiv respectively."
      ],
      "metadata": {
        "id": "S8ctwwkXtA9K"
      },
      "execution_count": null,
      "outputs": []
    },
    {
      "cell_type": "code",
      "source": [
        "You can verify the tool names by printing:\n",
        "\n",
        "print(wiki_tool.name)  # Outputs: Wikipedia\n",
        "print(arxiv_tool.name)  # Outputs: Arxiv"
      ],
      "metadata": {
        "id": "Q3fKR7owtCLy"
      },
      "execution_count": null,
      "outputs": []
    },
    {
      "cell_type": "code",
      "source": [
        "#You can verify the tool names by printing:\n",
        "\n",
        "print(wiki_tool.name)  # Outputs: Wikipedia\n",
        "print(arxiv_tool.name)  # Outputs: Arxiv"
      ],
      "metadata": {
        "id": "17V7iykatDgS"
      },
      "execution_count": null,
      "outputs": []
    },
    {
      "cell_type": "code",
      "source": [],
      "metadata": {
        "id": "-b8ztb8RtGm1"
      },
      "execution_count": null,
      "outputs": []
    }
  ]
}